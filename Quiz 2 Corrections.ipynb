{
 "cells": [
  {
   "cell_type": "code",
   "execution_count": null,
   "id": "ae7e88de",
   "metadata": {},
   "outputs": [
    {
     "name": "stdout",
     "output_type": "stream",
     "text": [
      "25\n"
     ]
    }
   ],
   "source": [
    "# Question 2: Which of the following is a valid variable assignment?\n",
    "# Answer: age = 25\n",
    "age = 25\n",
    "print(age)\n",
    "# effectively assigns 25 to the variable age.\n",
    "# lambda = 0.001 and an invalid syntax, it gives a SyntaxError\n",
    "# def = \"Bob\" is also invalid, as you need the def keyword followed by a function name with parentheses\n",
    "# 2name = \"Charlie\" is invalid, as they cannot start with a number, is also gives an error\n"
   ]
  },
  {
   "cell_type": "code",
   "execution_count": null,
   "id": "7882303f",
   "metadata": {},
   "outputs": [
    {
     "ename": "SyntaxError",
     "evalue": "invalid decimal literal (1293318575.py, line 3)",
     "output_type": "error",
     "traceback": [
      "\u001b[0;36m  Cell \u001b[0;32mIn[4], line 3\u001b[0;36m\u001b[0m\n\u001b[0;31m    3users = \"Chloe\"\u001b[0m\n\u001b[0m    ^\u001b[0m\n\u001b[0;31mSyntaxError\u001b[0m\u001b[0;31m:\u001b[0m invalid decimal literal\n"
     ]
    }
   ],
   "source": [
    "# Question 5: Which of these variable names would cause a syntax error?\n",
    "# Answer: 3users\n",
    "3users = \"Chloe\"\n",
    "# 3users, because like the previous question, variable names cannot start with a number.\n",
    "# I did not read the question properly.\n"
   ]
  },
  {
   "cell_type": "code",
   "execution_count": null,
   "id": "8e8c6df9",
   "metadata": {},
   "outputs": [],
   "source": [
    "# Question "
   ]
  }
 ],
 "metadata": {
  "kernelspec": {
   "display_name": "base",
   "language": "python",
   "name": "python3"
  },
  "language_info": {
   "codemirror_mode": {
    "name": "ipython",
    "version": 3
   },
   "file_extension": ".py",
   "mimetype": "text/x-python",
   "name": "python",
   "nbconvert_exporter": "python",
   "pygments_lexer": "ipython3",
   "version": "3.13.5"
  }
 },
 "nbformat": 4,
 "nbformat_minor": 5
}
