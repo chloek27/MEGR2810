{
 "cells": [
  {
   "cell_type": "code",
   "execution_count": null,
   "id": "ae7e88de",
   "metadata": {},
   "outputs": [
    {
     "name": "stdout",
     "output_type": "stream",
     "text": [
      "25\n"
     ]
    }
   ],
   "source": [
    "# Question 2: Which of the following is a valid variable assignment?\n",
    "# Answer: age = 25\n",
    "age = 25\n",
    "print(age)\n",
    "# effectively assigns 25 to the variable age.\n",
    "# lambda = 0.001 and an invalid syntax, it gives a SyntaxError. \n",
    "    # It would have to include an arguement, so a decimal would not be valid.\n",
    "# def = \"Bob\" is also invalid, as you need the def keyword followed by a function name with parentheses\n",
    "# 2name = \"Charlie\" is invalid, as they cannot start with a number, is also gives an error\n"
   ]
  },
  {
   "cell_type": "code",
   "execution_count": 18,
   "id": "7882303f",
   "metadata": {},
   "outputs": [
    {
     "ename": "SyntaxError",
     "evalue": "invalid decimal literal (2979135907.py, line 3)",
     "output_type": "error",
     "traceback": [
      "\u001b[0;36m  Cell \u001b[0;32mIn[18], line 3\u001b[0;36m\u001b[0m\n\u001b[0;31m    3users = \"Chloe\"\u001b[0m\n\u001b[0m    ^\u001b[0m\n\u001b[0;31mSyntaxError\u001b[0m\u001b[0;31m:\u001b[0m invalid decimal literal\n"
     ]
    }
   ],
   "source": [
    "# Question 5: Which of these variable names would cause a syntax error?\n",
    "# Answer: 3users\n",
    "3users = \"Chloe\"\n",
    "# 3users, because like the previous question, variable names cannot start with a number.\n",
    "# I did not read the question properly.\n",
    "# However, the other multiple choice options are valid variable names.\n",
    "user2 = \"Log\"\n",
    "_users = \"Leaf\"\n",
    "my_users = \"Lake\"\n",
    "\n"
   ]
  },
  {
   "cell_type": "code",
   "execution_count": 10,
   "id": "8e8c6df9",
   "metadata": {},
   "outputs": [
    {
     "name": "stdout",
     "output_type": "stream",
     "text": [
      "4.0\n",
      "4\n"
     ]
    }
   ],
   "source": [
    "# Question 7: What does math.sqrt(16) return?\n",
    "# Answer: 4.0\n",
    "import math\n",
    "y = math.sqrt(16)\n",
    "print(y)\n",
    "# math.sqrt(16) returns 4.0, which is a float, if you want an integer, you can use int(math.sqrt(16)) to get 4.\n",
    "# for example:\n",
    "x = int(math.sqrt(16))\n",
    "print(x)\n"
   ]
  },
  {
   "cell_type": "code",
   "execution_count": 11,
   "id": "fa4e36a2",
   "metadata": {},
   "outputs": [
    {
     "name": "stdout",
     "output_type": "stream",
     "text": [
      "0\n",
      "1\n",
      "2\n"
     ]
    }
   ],
   "source": [
    "# Question 16: What will this code output?\n",
    "# for i in range(3):\n",
    "#     print(i)\n",
    "# Answer: 0 1 2 (on different lines)\n",
    "for i in range(3):\n",
    "    print(i)\n",
    "# I forgot that the range starts from 0 and goes up 3 numbers.\n",
    "# So, it would be 3 digits, starting from 0, so 0, 1, 2."
   ]
  }
 ],
 "metadata": {
  "kernelspec": {
   "display_name": "base",
   "language": "python",
   "name": "python3"
  },
  "language_info": {
   "codemirror_mode": {
    "name": "ipython",
    "version": 3
   },
   "file_extension": ".py",
   "mimetype": "text/x-python",
   "name": "python",
   "nbconvert_exporter": "python",
   "pygments_lexer": "ipython3",
   "version": "3.13.5"
  }
 },
 "nbformat": 4,
 "nbformat_minor": 5
}
