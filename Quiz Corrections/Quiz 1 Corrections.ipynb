{
 "cells": [
  {
   "cell_type": "code",
   "execution_count": 7,
   "id": "e80baac7",
   "metadata": {},
   "outputs": [
    {
     "data": {
      "text/plain": [
       "123"
      ]
     },
     "execution_count": 7,
     "metadata": {},
     "output_type": "execute_result"
    }
   ],
   "source": [
    "# Question 12: What does int (\"123\") evalute to?\n",
    "int(\"123\")\n",
    "# An integer with \"123\" still gives you the numbers within the parentheses.\n",
    "# A integer will not have a decimal point. "
   ]
  },
  {
   "cell_type": "code",
   "execution_count": 2,
   "id": "c9d719dc",
   "metadata": {},
   "outputs": [
    {
     "ename": "ValueError",
     "evalue": "invalid literal for int() with base 10: '3.5'",
     "output_type": "error",
     "traceback": [
      "\u001b[0;31m---------------------------------------------------------------------------\u001b[0m",
      "\u001b[0;31mValueError\u001b[0m                                Traceback (most recent call last)",
      "Cell \u001b[0;32mIn[2], line 4\u001b[0m\n\u001b[1;32m      1\u001b[0m \u001b[38;5;66;03m# Question 14: Which of the following function calls will cause an error?\u001b[39;00m\n\u001b[1;32m      2\u001b[0m \u001b[38;5;66;03m#len(42)\u001b[39;00m\n\u001b[1;32m      3\u001b[0m \u001b[38;5;66;03m# type(\"hello\")\u001b[39;00m\n\u001b[0;32m----> 4\u001b[0m \u001b[38;5;28mint\u001b[39m(\u001b[38;5;124m\"\u001b[39m\u001b[38;5;124m3.5\u001b[39m\u001b[38;5;124m\"\u001b[39m)\n",
      "\u001b[0;31mValueError\u001b[0m: invalid literal for int() with base 10: '3.5'"
     ]
    }
   ],
   "source": [
    "# Question 14: Which of the following function calls will cause an error?\n",
    "#len(42)\n",
    "# type(\"hello\")\n",
    "int(\"3.5\")\n",
    "# float(\"2.7\")"
   ]
  },
  {
   "cell_type": "code",
   "execution_count": 22,
   "id": "6f54e8a0",
   "metadata": {},
   "outputs": [
    {
     "name": "stdout",
     "output_type": "stream",
     "text": [
      "x=  3.2\n",
      "c=  0.20000000000000018\n",
      "Error. Please enter an integer.\n"
     ]
    }
   ],
   "source": [
    "x = input(\"Enter a number: \")\n",
    "x = float(x)\n",
    "print (\"x= \", x)\n",
    "c = x % 1\n",
    "print (\"c= \", c)\n",
    "\n",
    "if c != 0:\n",
    "    print (\"Error. Please enter an integer.\")\n",
    "\n",
    "else:\n",
    "    print (\"Thank you for entering an integer.\")\n",
    "    #for i in range(1, int(c)):\n",
    "       # total *= i - 1\n",
    "  #  print(total)\n",
    "#else: \n",
    "   # print(\"Error: Please enter an integer.\")"
   ]
  }
 ],
 "metadata": {
  "kernelspec": {
   "display_name": "base",
   "language": "python",
   "name": "python3"
  },
  "language_info": {
   "codemirror_mode": {
    "name": "ipython",
    "version": 3
   },
   "file_extension": ".py",
   "mimetype": "text/x-python",
   "name": "python",
   "nbconvert_exporter": "python",
   "pygments_lexer": "ipython3",
   "version": "3.13.5"
  }
 },
 "nbformat": 4,
 "nbformat_minor": 5
}
