{
 "cells": [
  {
   "cell_type": "code",
   "execution_count": null,
   "id": "829fd712",
   "metadata": {},
   "outputs": [],
   "source": [
    "# Question 2: Take user input for the value of a variable x.\n",
    "# Check if the input is an integer or not (if it is not, you need to convert it into an int).\n",
    "# Write your code to compute the factorial of x.\n",
    "x = input(\"Enter a number: \")\n",
    "x = float(x)\n",
    "print (\"x= \", x)\n",
    "c = x % 1\n",
    "print (\"c= \", c)\n",
    "\n",
    "if c != 0:\n",
    "    print (\"Error. Please enter an integer.\")\n",
    "\n",
    "else:\n",
    "    print (\"Thank you for entering an integer.\")\n",
    "    #for i in range(1, int(c)):\n",
    "       # total *= i - 1\n",
    "  #  print(total)\n",
    "#else: \n",
    "   # print(\"Error: Please enter an integer.\")"
   ]
  }
 ],
 "metadata": {
  "language_info": {
   "name": "python"
  }
 },
 "nbformat": 4,
 "nbformat_minor": 5
}
