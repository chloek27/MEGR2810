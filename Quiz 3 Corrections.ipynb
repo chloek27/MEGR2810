{
 "cells": [
  {
   "cell_type": "code",
   "execution_count": 1,
   "id": "829fd712",
   "metadata": {},
   "outputs": [
    {
     "name": "stdout",
     "output_type": "stream",
     "text": [
      "x=  3.0\n",
      "c=  0.0\n",
      "Thank you for entering an integer.\n"
     ]
    }
   ],
   "source": [
    "# Question 2: Take user input for the value of a variable x.\n",
    "# Check if the input is an integer or not (if it is not, you need to convert it into an int).\n",
    "# Write your code to compute the factorial of x.\n",
    "x = input(\"Enter a number: \")\n",
    "x = float(x)\n",
    "print (\"x= \", x)\n",
    "c = x % 1\n",
    "print (\"c= \", c)\n",
    "\n",
    "if c != 0:\n",
    "    print (\"Error. Please enter an integer.\")\n",
    "\n",
    "else:\n",
    "    factorial_recursive = 1\n",
    "    for i in range(1, int(x) + 1):\n",
    "        factorial_recursive *= i\n",
    "    print (\"Thank you for entering an integer.\")\n",
    "    #for i in range(1, int(c)):\n",
    "       # total *= i - 1\n",
    "  #  print(total)\n",
    "#else: \n",
    "   # print(\"Error: Please enter an integer.\")"
   ]
  }
 ],
 "metadata": {
  "kernelspec": {
   "display_name": "base",
   "language": "python",
   "name": "python3"
  },
  "language_info": {
   "codemirror_mode": {
    "name": "ipython",
    "version": 3
   },
   "file_extension": ".py",
   "mimetype": "text/x-python",
   "name": "python",
   "nbconvert_exporter": "python",
   "pygments_lexer": "ipython3",
   "version": "3.13.5"
  }
 },
 "nbformat": 4,
 "nbformat_minor": 5
}
