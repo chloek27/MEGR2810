{
 "cells": [
  {
   "cell_type": "markdown",
   "id": "bf181aa5",
   "metadata": {},
   "source": [
    "## Review on if statements "
   ]
  },
  {
   "cell_type": "markdown",
   "id": "48ee0ef5",
   "metadata": {},
   "source": [
    "## 🧊 Simulate a Thermostat\n",
    "Ask the user for the current temperature and print:\n",
    "- “It’s cold” if < 60°F\n",
    "- “It’s comfortable” if between 60°F and 75°F\n",
    "- “It’s hot” if > 75°F"
   ]
  },
  {
   "cell_type": "code",
   "execution_count": null,
   "id": "51140bb1",
   "metadata": {},
   "outputs": [
    {
     "name": "stdout",
     "output_type": "stream",
     "text": [
      "It's comfortable!\n"
     ]
    }
   ],
   "source": [
    "temperature = input(\"Enter the current temperature in Fahrenheit: \")\n",
    "# Convert input to integer\n",
    "temperature = int(temperature)\n",
    "\n",
    "if temperature < 60:\n",
    "    print(\"It's cold!\")\n",
    "elif temperature > 75:\n",
    "    print(\"It's hot!\")\n",
    "else:\n",
    "    print(\"It's comfortable!\")\n",
    "    "
   ]
  },
  {
   "cell_type": "markdown",
   "id": "c69bd652",
   "metadata": {},
   "source": [
    "## 🌊 Fluid Flow Calculation\n",
    "\n",
    "You are analyzing fluid flow in a pipe. The flow regime depends on the Reynolds number, which is calculated using:\n",
    "Re = (ρDv)/ μ.\n",
    "\n",
    "Where:\n",
    "Re = Reynolds number, a dimensionless number;\n",
    "ρ = density of the fluid;\n",
    "D = diameter of the passage way;\n",
    "v = velocity of the fluid;\n",
    "μ = viscosity of the fluid.\n",
    "\n",
    "Write a program that:\n",
    "- Asks for fluid properties and flow velocity.\n",
    "- Calculates Reynolds number.\n",
    "- Uses nested conditionals to classify the flow as:\n",
    "  - Laminar (Re < 2000)\n",
    "  - Transitional (2000 ≤ Re ≤ 4000)\n",
    "  - Turbulent (Re > 4000)\n"
   ]
  },
  {
   "cell_type": "code",
   "execution_count": 142,
   "id": "bed535c4",
   "metadata": {},
   "outputs": [
    {
     "name": "stdout",
     "output_type": "stream",
     "text": [
      "Laminar Flow\n",
      "The Reynolds number is: 1680.3370786516855\n"
     ]
    }
   ],
   "source": [
    "# Get Fluid Velocity and Pipe Diameter       \n",
    "v =  input (\"Enter flow velocity (m/s): \")            # Ask user to enter flow velocity (m/s)\n",
    "D =  input (\"Enter pipe diameter (m): \")              # Ask user to enter pipe diameter (m)\n",
    "\n",
    "# Constants\n",
    "rho = 997        # Water density ρ (kg/m^3)  \n",
    "mu = 0.00089     # Dynamic viscosity of Water μ (Pa·s)   \n",
    "\n",
    "# Convert inputs to float\n",
    "v = float(v)\n",
    "D = float(D) #if you don't convert, you will get an error when you try to do math with strings\n",
    "\n",
    "# Calculate Reynolds number\n",
    "Re = (rho * D * v) / mu\n",
    "\n",
    "# Your code here \n",
    "if Re < 2000:\n",
    " print (\"Laminar Flow\")\n",
    "else:\n",
    "    if Re <= 4000:\n",
    "        print(\"Transitional Flow\")\n",
    "    else:\n",
    "        print(\"Turbulent Flow\")\n",
    "\n",
    "# Print the result\n",
    "print(\"The Reynolds number is: \" + str(Re)) # Note that str() converts a number to a string for Re. \n"
   ]
  },
  {
   "cell_type": "markdown",
   "id": "da140da0",
   "metadata": {},
   "source": [
    "## More on loops- Lecture 4 "
   ]
  },
  {
   "cell_type": "markdown",
   "id": "18bb680b",
   "metadata": {},
   "source": [
    "## 🔩 Bolt Counter\n",
    "\n",
    "A machine uses bolts in sets of 4 per assembly. Calculate how many bolts are needed for 10 assemblies. Print a message every time an assembly is completed.\n",
    "assemblies = 10\n",
    "bolts_per_assembly = 4\n"
   ]
  },
  {
   "cell_type": "code",
   "execution_count": 12,
   "id": "6839b8c5",
   "metadata": {},
   "outputs": [
    {
     "name": "stdout",
     "output_type": "stream",
     "text": [
      "Assembly 1 completed. Total bolts used: 4\n",
      "Assembly 2 completed. Total bolts used: 8\n",
      "Assembly 3 completed. Total bolts used: 12\n",
      "Assembly 4 completed. Total bolts used: 16\n",
      "Assembly 5 completed. Total bolts used: 20\n",
      "Assembly 6 completed. Total bolts used: 24\n",
      "Assembly 7 completed. Total bolts used: 28\n",
      "Assembly 8 completed. Total bolts used: 32\n",
      "Assembly 9 completed. Total bolts used: 36\n",
      "Assembly 10 completed. Total bolts used: 40\n",
      "Total bolts needed for 10 assemblies: 40\n"
     ]
    }
   ],
   "source": [
    "assemblies = 10\n",
    "bolts_per_assembly = 4\n",
    "total_bolts = 0\n",
    "\n",
    "# Loop through each assembly\n",
    "for i in range(1, assemblies + 1): # from 1 to 10 inclusive. Need +1 because range is exclusive of the end value.\n",
    "\n",
    "    # Your code here # adding bolts for current assembly to total\n",
    "    total_bolts += bolts_per_assembly  # Add bolts for current assembly\n",
    "        \n",
    "\n",
    "    print(f\"Assembly {i} completed. Total bolts used: {total_bolts}\") # Using f-string to print\n",
    "\n",
    "print(f\"Total bolts needed for {assemblies} assemblies: {total_bolts}\") # Final output of total bolts needed"
   ]
  },
  {
   "cell_type": "markdown",
   "id": "c63188b6",
   "metadata": {},
   "source": [
    "## ❄️ Cooling Curve Generator\n",
    "\n",
    "Simulate the cooling of a metal block using Newton’s Law of Cooling: T(t) = T_env + (T0 - T_env) * e^(-kt)."
   ]
  },
  {
   "cell_type": "code",
   "execution_count": 2,
   "id": "45a0eac6",
   "metadata": {},
   "outputs": [
    {
     "name": "stdout",
     "output_type": "stream",
     "text": [
      "At 0 minutes, the temperature is: 100.00 °C\n",
      "At 1 minutes, the temperature is: 92.86 °C\n",
      "At 2 minutes, the temperature is: 86.40 °C\n",
      "At 3 minutes, the temperature is: 80.56 °C\n",
      "At 4 minutes, the temperature is: 75.27 °C\n",
      "At 5 minutes, the temperature is: 70.49 °C\n",
      "At 6 minutes, the temperature is: 66.16 °C\n",
      "At 7 minutes, the temperature is: 62.24 °C\n",
      "At 8 minutes, the temperature is: 58.70 °C\n",
      "At 9 minutes, the temperature is: 55.49 °C\n",
      "At 10 minutes, the temperature is: 52.59 °C\n"
     ]
    }
   ],
   "source": [
    "import math\n",
    "\n",
    "T_env = 25  # ambient temperature in °C\n",
    "T0 = 100  # initial temperature in °C\n",
    "k = 0.1  # cooling constant\n",
    "time_steps = range(0, 11)  # time from 0 to 10 minutes\n",
    "\n",
    "# Loop through time steps\n",
    "for t in time_steps:\n",
    "    # Your code here\n",
    "    T = T_env + (T0 - T_env) * math.exp(-k * t)\n",
    "    print(f\"At {t} minutes, the temperature is: {T:.2f} °C\")"
   ]
  },
  {
   "cell_type": "markdown",
   "id": "bd7d5878",
   "metadata": {},
   "source": [
    "## 🌊 Simple Harmonic Motion Tracker\n",
    "\n",
    "Simulate the position of a spring-mass system over time using x(t) = A * cos(ωt). ω is the angular frequency in rad/s, which equals to 2πf. f is the linear frequency in hertz (1/second). Print out the position at each time step. Make sure you can see a Cos function in your output."
   ]
  },
  {
   "cell_type": "code",
   "execution_count": 63,
   "id": "bbd2b889",
   "metadata": {},
   "outputs": [
    {
     "name": "stdout",
     "output_type": "stream",
     "text": [
      "t = 1s: x(t) = 0.05 * cos(0.571 * 1) = 0.0421 meters\n",
      "t = 2s: x(t) = 0.05 * cos(0.571 * 2) = 0.0208 meters\n",
      "t = 3s: x(t) = 0.05 * cos(0.571 * 3) = -0.0071 meters\n",
      "t = 4s: x(t) = 0.05 * cos(0.571 * 4) = -0.0327 meters\n",
      "t = 5s: x(t) = 0.05 * cos(0.571 * 5) = -0.0480 meters\n",
      "t = 6s: x(t) = 0.05 * cos(0.571 * 6) = -0.0480 meters\n",
      "t = 7s: x(t) = 0.05 * cos(0.571 * 7) = -0.0327 meters\n",
      "t = 8s: x(t) = 0.05 * cos(0.571 * 8) = -0.0071 meters\n",
      "t = 9s: x(t) = 0.05 * cos(0.571 * 9) = 0.0208 meters\n",
      "t = 10s: x(t) = 0.05 * cos(0.571 * 10) = 0.0421 meters\n",
      "t = 11s: x(t) = 0.05 * cos(0.571 * 11) = 0.0500 meters\n"
     ]
    }
   ],
   "source": [
    "# The following code has errors. Please fix them.\n",
    "import math\n",
    "A = 0.05  # amplitude in meters\n",
    "f = 1/t # Frequency in Hz\n",
    "omega = 2 * math.pi * f  # angular frequency in rad/s\n",
    "# c = math.cos(omega * t)\n",
    "time_steps = range (1, 12) # time from 0 to xx seconds. You can change xx.\n",
    "\n",
    "\n",
    "# Loop through time steps\n",
    "for t in time_steps:\n",
    "    x = A * math.cos(omega * t)\n",
    "    print(f\"t = {t}s: x(t) = {A} * cos({omega:.3} * {t}) = {x:.4f} meters\")\n"
   ]
  },
  {
   "cell_type": "markdown",
   "id": "1f4170de",
   "metadata": {},
   "source": [
    "## 📚 Study Timer\n",
    "\n",
    "Loop through 5 study sessions of 25 minutes each. After each session, print the session number and \"Take a 5-minute break!\".\n",
    "\n",
    "Track total study time and break time and print them out at the end."
   ]
  },
  {
   "cell_type": "code",
   "execution_count": 72,
   "id": "8fde8ef8",
   "metadata": {},
   "outputs": [
    {
     "name": "stdout",
     "output_type": "stream",
     "text": [
      "Study Session 1: Study for 25 minutes.\n",
      "Take a 5-minute break.\n",
      "Study Session 2: Study for 25 minutes.\n",
      "Take a 5-minute break.\n",
      "Study Session 3: Study for 25 minutes.\n",
      "Take a 5-minute break.\n",
      "Study Session 4: Study for 25 minutes.\n",
      "Take a 5-minute break.\n",
      "Study Session 5: Study for 25 minutes.\n",
      "Total study time: 125 minutes\n",
      "Total break time: 20 minutes\n"
     ]
    }
   ],
   "source": [
    "study_sessions = 5\n",
    "study_time = 0\n",
    "break_time = 0\n",
    "\n",
    "# Your code here. \n",
    "for i in range(1, study_sessions + 1): # Loop through each study session\n",
    "    study_time += 25  # Add 25 minutes of study time\n",
    "    print(f\"Study Session {i}: Study for 25 minutes.\")\n",
    "    \n",
    "    if i < study_sessions:  # No break after the last session\n",
    "        break_time += 5  # Add 5 minutes of break time\n",
    "        print(\"Take a 5-minute break.\")\n",
    "\n",
    "\n",
    "print(f\"Total study time: {study_time} minutes\")\n",
    "print(f\"Total break time: {break_time} minutes\")"
   ]
  },
  {
   "cell_type": "markdown",
   "id": "a7f7b3fd",
   "metadata": {},
   "source": [
    "## 🏃 Step Counter\n",
    "\n",
    "Simulate a pedometer that logs steps every minute. Loop through 60 minutes and sum the total steps.\n",
    "Use random.randint(80, 120) to simulate steps per minute."
   ]
  },
  {
   "cell_type": "code",
   "execution_count": 86,
   "id": "96fcb3bd",
   "metadata": {},
   "outputs": [
    {
     "name": "stdout",
     "output_type": "stream",
     "text": [
      "Minute 1: 97 steps\n",
      "Minute 2: 87 steps\n",
      "Minute 3: 105 steps\n",
      "Minute 4: 110 steps\n",
      "Minute 5: 105 steps\n",
      "Minute 6: 80 steps\n",
      "Minute 7: 103 steps\n",
      "Minute 8: 102 steps\n",
      "Minute 9: 114 steps\n",
      "Minute 10: 83 steps\n",
      "Minute 11: 107 steps\n",
      "Minute 12: 83 steps\n",
      "Minute 13: 111 steps\n",
      "Minute 14: 108 steps\n",
      "Minute 15: 98 steps\n",
      "Minute 16: 94 steps\n",
      "Minute 17: 109 steps\n",
      "Minute 18: 104 steps\n",
      "Minute 19: 103 steps\n",
      "Minute 20: 117 steps\n",
      "Minute 21: 112 steps\n",
      "Minute 22: 96 steps\n",
      "Minute 23: 109 steps\n",
      "Minute 24: 110 steps\n",
      "Minute 25: 111 steps\n",
      "Minute 26: 110 steps\n",
      "Minute 27: 102 steps\n",
      "Minute 28: 119 steps\n",
      "Minute 29: 91 steps\n",
      "Minute 30: 89 steps\n",
      "Minute 31: 117 steps\n",
      "Minute 32: 94 steps\n",
      "Minute 33: 90 steps\n",
      "Minute 34: 111 steps\n",
      "Minute 35: 101 steps\n",
      "Minute 36: 87 steps\n",
      "Minute 37: 98 steps\n",
      "Minute 38: 84 steps\n",
      "Minute 39: 113 steps\n",
      "Minute 40: 106 steps\n",
      "Minute 41: 94 steps\n",
      "Minute 42: 87 steps\n",
      "Minute 43: 110 steps\n",
      "Minute 44: 85 steps\n",
      "Minute 45: 98 steps\n",
      "Minute 46: 104 steps\n",
      "Minute 47: 94 steps\n",
      "Minute 48: 115 steps\n",
      "Minute 49: 105 steps\n",
      "Minute 50: 117 steps\n",
      "Minute 51: 84 steps\n",
      "Minute 52: 110 steps\n",
      "Minute 53: 115 steps\n",
      "Minute 54: 87 steps\n",
      "Minute 55: 89 steps\n",
      "Minute 56: 81 steps\n",
      "Minute 57: 93 steps\n",
      "Minute 58: 104 steps\n",
      "Minute 59: 119 steps\n",
      "Minute 60: 87 steps\n",
      "Total steps in 1 hour: 6048\n"
     ]
    }
   ],
   "source": [
    "import random\n",
    "total_steps = 0\n",
    "# Loop for each minute in an hour\n",
    "for minute in range(1, 61):  # From minute 1 to 60\n",
    "    steps = random.randint(80, 120)\n",
    "    total_steps += steps \n",
    "    # Your code here to increase the total steps by a random number between 80 and 120. \n",
    "    print(f\"Minute {minute}: {steps} steps\")\n",
    "\n",
    "print(f\"Total steps in 1 hour: {total_steps}\")"
   ]
  },
  {
   "cell_type": "markdown",
   "id": "1c31ade7",
   "metadata": {},
   "source": [
    "## 🔁 Material Fatigue Counter\n",
    "\n",
    "Count how many cycles a material can endure before failure. Reduce strength slightly each cycle (you decide the deduction) and stop when it drops below a threshold."
   ]
  },
  {
   "cell_type": "code",
   "execution_count": 87,
   "id": "40731dc7",
   "metadata": {},
   "outputs": [
    {
     "name": "stdout",
     "output_type": "stream",
     "text": [
      "Material failed after 26 cycles.\n"
     ]
    }
   ],
   "source": [
    "initial_strength = 1000  # arbitrary units\n",
    "threshold = 700\n",
    "strength = initial_strength\n",
    "cycle = 0\n",
    "\n",
    "# Your code here\n",
    "for cycle in range(1, 31):\n",
    "    strength -= 12\n",
    "    if strength < threshold:\n",
    "        break\n",
    "print(f\"Material failed after {cycle} cycles.\")"
   ]
  },
  {
   "cell_type": "markdown",
   "id": "a7def41f",
   "metadata": {},
   "source": [
    "## 📱 Battery Drain Simulator\n",
    "\n",
    "Simulate a phone battery draining 5% every hour. Use a loop to show battery level over time until it reaches 0%.\n",
    "Print a warning when battery drops below 20% and a final message if the battery is drained. \n",
    "\n",
    "Hint: You may use a conditional statement nested in a while loop."
   ]
  },
  {
   "cell_type": "code",
   "execution_count": 91,
   "id": "7f61b43c",
   "metadata": {},
   "outputs": [
    {
     "name": "stdout",
     "output_type": "stream",
     "text": [
      "Hour 1: Battery at 95%\n",
      "Hour 2: Battery at 90%\n",
      "Hour 3: Battery at 85%\n",
      "Hour 4: Battery at 80%\n",
      "Hour 5: Battery at 75%\n",
      "Hour 6: Battery at 70%\n",
      "Hour 7: Battery at 65%\n",
      "Hour 8: Battery at 60%\n",
      "Hour 9: Battery at 55%\n",
      "Hour 10: Battery at 50%\n",
      "Hour 11: Battery at 45%\n",
      "Hour 12: Battery at 40%\n",
      "Hour 13: Battery at 35%\n",
      "Hour 14: Battery at 30%\n",
      "Hour 15: Battery at 25%\n",
      "Hour 16: Battery at 20%\n",
      "Hour 17: Battery at 15%\n",
      "Warning: Battery low!\n",
      "Hour 18: Battery at 10%\n",
      "Warning: Battery low!\n",
      "Hour 19: Battery at 5%\n",
      "Warning: Battery low!\n",
      "Hour 20: Battery at 0%\n",
      "Warning: Battery low!\n",
      "Battery drained.\n"
     ]
    }
   ],
   "source": [
    "battery = 100\n",
    "hour = 0\n",
    "\n",
    "# Your code here\n",
    "while battery >0:\n",
    "        battery -= 5\n",
    "        hour += 1   \n",
    "        print(f\"Hour {hour}: Battery at {battery}%\")\n",
    "        if battery < 20:\n",
    "                print(\"Warning: Battery low!\")\n",
    "print(\"Battery drained.\")"
   ]
  },
  {
   "cell_type": "markdown",
   "id": "afee43ee",
   "metadata": {},
   "source": [
    "## 🛒 Grocery Bill Calculator\n",
    "\n",
    "Loop through a list of grocery items and their prices shown in the code. Calculate the total bill. Apply a 5% discount if the total exceeds $50. Print out the total bill and an indication on whether a discount is applied. \n",
    "\n",
    "Hint: You will need a for loop through this list and then a conditional statement to determine if a discount can be applied. "
   ]
  },
  {
   "cell_type": "code",
   "execution_count": 139,
   "id": "a4fc61df",
   "metadata": {},
   "outputs": [
    {
     "name": "stdout",
     "output_type": "stream",
     "text": [
      "Total cost before discounts: $50.70\n",
      "A 5.0% discount was applied because the total exceeded $50.\n",
      "Total cost after discounts: $48.17\n",
      "Thank you for shopping with us! Come again soon!\n"
     ]
    }
   ],
   "source": [
    "items = {'Milk': 4.5, 'Bread': 3.2, 'Eggs': 6.0, 'Cheese': 8.5, 'Fruits': 12.0, 'Snacks': 9.0, 'Beverages': 7.5}\n",
    "# You can add/delete items if you want\n",
    "total = 0\n",
    "discount = 0.05\n",
    "\n",
    "for price in items.values():\n",
    "    total += price\n",
    "print(f\"Total cost before discounts: ${total:.2f}\")\n",
    "\n",
    "if total > 50:\n",
    "    discount_applied = True\n",
    "    total -= total * discount\n",
    "    print(f\"A {discount*100}% discount was applied because the total exceeded $50.\")\n",
    "    print(f\"Total cost after discounts: ${total:.2f}\")\n",
    "else: \n",
    "    total <= 50\n",
    "    discount_applied = False\n",
    "    print(\"No discount was applied.\")\n",
    "print(\"Thank you for shopping with us! Come again soon!\")"
   ]
  }
 ],
 "metadata": {
  "kernelspec": {
   "display_name": "base",
   "language": "python",
   "name": "python3"
  },
  "language_info": {
   "codemirror_mode": {
    "name": "ipython",
    "version": 3
   },
   "file_extension": ".py",
   "mimetype": "text/x-python",
   "name": "python",
   "nbconvert_exporter": "python",
   "pygments_lexer": "ipython3",
   "version": "3.13.5"
  }
 },
 "nbformat": 4,
 "nbformat_minor": 5
}
