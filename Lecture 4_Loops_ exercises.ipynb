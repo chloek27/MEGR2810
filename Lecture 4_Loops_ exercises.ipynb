{
 "cells": [
  {
   "cell_type": "markdown",
   "id": "bf181aa5",
   "metadata": {},
   "source": [
    "## Review on if statements "
   ]
  },
  {
   "cell_type": "markdown",
   "id": "48ee0ef5",
   "metadata": {},
   "source": [
    "## 🧊 Simulate a Thermostat\n",
    "Ask the user for the current temperature and print:\n",
    "- “It’s cold” if < 60°F\n",
    "- “It’s comfortable” if between 60°F and 75°F\n",
    "- “It’s hot” if > 75°F"
   ]
  },
  {
   "cell_type": "code",
   "execution_count": null,
   "id": "51140bb1",
   "metadata": {},
   "outputs": [],
   "source": [
    "temperature = input(\"Enter the current temperature in Fahrenheit: \")\n",
    "# Your code here\n",
    "\n",
    "    "
   ]
  },
  {
   "cell_type": "markdown",
   "id": "c69bd652",
   "metadata": {},
   "source": [
    "## 🌊 Fluid Flow Calculation\n",
    "\n",
    "You are analyzing fluid flow in a pipe. The flow regime depends on the Reynolds number, which is calculated using:\n",
    "Re = (ρDv)/ μ.\n",
    "\n",
    "Where:\n",
    "Re = Reynolds number, a dimensionless number;\n",
    "ρ = density of the fluid;\n",
    "D = diameter of the passage way;\n",
    "v = velocity of the fluid;\n",
    "μ = viscosity of the fluid.\n",
    "\n",
    "Write a program that:\n",
    "- Asks for fluid properties and flow velocity.\n",
    "- Calculates Reynolds number.\n",
    "- Uses nested conditionals to classify the flow as:\n",
    "  - Laminar (Re < 2000)\n",
    "  - Transitional (2000 ≤ Re ≤ 4000)\n",
    "  - Turbulent (Re > 4000)\n"
   ]
  },
  {
   "cell_type": "code",
   "execution_count": null,
   "id": "bed535c4",
   "metadata": {},
   "outputs": [],
   "source": [
    "# Get Fluid Velocity and Pipe Diameter       \n",
    "v =  input (\"Enter flow velocity (m/s): \")            # Ask use to enter flow velocity (m/s)\n",
    "D =  input (\"Enter pipe diameter (m): \")              # Ask user to enter pipe diameter (m)\n",
    "# Constants\n",
    "rho = 997        # Water density ρ (kg/m^3)  \n",
    "mu = 0.00089     # Dynamic viscosity of Water μ (Pa·s)   \n",
    "\n",
    "# Convert inputs to float\n",
    "# v = float(v)\n",
    "# D = float(D) if you don't convert, you will get an error when you try to do math with strings\n",
    "\n",
    "# Calculate Reynolds number\n",
    "# Your code here \n",
    "\n",
    "# Print the result\n",
    "print(\"The Reynolds number is: \" + str(Re)) # Note that str() converts a number to a string for Re. \n",
    "\n",
    "# Your code here"
   ]
  },
  {
   "cell_type": "markdown",
   "id": "da140da0",
   "metadata": {},
   "source": [
    "## More on loops- Lecture 4 "
   ]
  },
  {
   "cell_type": "markdown",
   "id": "18bb680b",
   "metadata": {},
   "source": [
    "## 🔩 Bolt Counter\n",
    "\n",
    "A machine uses bolts in sets of 4 per assembly. Calculate how many bolts are needed for 10 assemblies. Print a message every time an assembly is completed.\n",
    "assemblies = 10\n",
    "bolts_per_assembly = 4\n"
   ]
  },
  {
   "cell_type": "code",
   "execution_count": null,
   "id": "6839b8c5",
   "metadata": {},
   "outputs": [],
   "source": [
    "assemblies = 10\n",
    "bolts_per_assembly = 4\n",
    "total_bolts = 0\n",
    "\n",
    "# Loop through each assembly\n",
    "for i in range(1, assemblies + 1): # from 1 to 10 inclusive. Need +1 because range is exclusive of the end value.\n",
    "\n",
    "    # Your code here # adding bolts for current assembly to total\n",
    "\n",
    "    print(f\"Assembly {i} completed. Total bolts used: {total_bolts}\") # Using f-string to print\n",
    "\n",
    "print(f\"Total bolts needed for {assemblies} assemblies: {total_bolts}\") # Final output of total bolts needed"
   ]
  },
  {
   "cell_type": "markdown",
   "id": "c63188b6",
   "metadata": {},
   "source": [
    "## ❄️ Cooling Curve Generator\n",
    "\n",
    "Simulate the cooling of a metal block using Newton’s Law of Cooling: T(t) = T_env + (T0 - T_env) * e^(-kt)."
   ]
  },
  {
   "cell_type": "code",
   "execution_count": null,
   "id": "45a0eac6",
   "metadata": {},
   "outputs": [],
   "source": [
    "import math\n",
    "\n",
    "T_env = 25  # ambient temperature in °C\n",
    "T0 = 100  # initial temperature in °C\n",
    "k = 0.1  # cooling constant\n",
    "time_steps = range(0, 11)  # time from 0 to 10 minutes\n",
    "\n",
    "# Loop through time steps\n",
    "for t in time_steps:\n",
    "    # Your code here"
   ]
  },
  {
   "cell_type": "markdown",
   "id": "bd7d5878",
   "metadata": {},
   "source": [
    "## 🌊 Simple Harmonic Motion Tracker\n",
    "\n",
    "Simulate the position of a spring-mass system over time using x(t) = A * cos(ωt). ω is the angular frequency in rad/s, which equals to 2πf. f is the linear frequency in hertz (1/second). Print out the position at each time step. Make sure you can see a Cos function in your output."
   ]
  },
  {
   "cell_type": "code",
   "execution_count": null,
   "id": "bbd2b889",
   "metadata": {},
   "outputs": [],
   "source": [
    "# The following code has errors. Please fix them.\n",
    "import math\n",
    "A = 0.05  # amplitude in meters\n",
    "omega = 2 * math.pi  # angular frequency in rad/s\n",
    "time_steps = range(0, 100)  # time from 0 to xx seconds. You can change xx.\n",
    "\n",
    "# Loop through time steps\n",
    "for t in time_steps:\n",
    "    # Your code here\n",
    "    \n"
   ]
  },
  {
   "cell_type": "markdown",
   "id": "1f4170de",
   "metadata": {},
   "source": [
    "## 📚 Study Timer\n",
    "\n",
    "Loop through 5 study sessions of 25 minutes each. After each session, print the session number and \"Take a 5-minute break!\".\n",
    "\n",
    "Track total study time and break time and print them out at the end."
   ]
  },
  {
   "cell_type": "code",
   "execution_count": null,
   "id": "8fde8ef8",
   "metadata": {},
   "outputs": [],
   "source": [
    "study_sessions = 5\n",
    "study_time = 0\n",
    "break_time = 0\n",
    "\n",
    "# Your code here. \n",
    "\n",
    "\n",
    "\n",
    "print(f\"Total study time: {study_time} minutes\")\n",
    "print(f\"Total break time: {break_time} minutes\")"
   ]
  },
  {
   "cell_type": "markdown",
   "id": "a7f7b3fd",
   "metadata": {},
   "source": [
    "## 🏃 Step Counter\n",
    "\n",
    "Simulate a pedometer that logs steps every minute. Loop through 60 minutes and sum the total steps.\n",
    "Use random.randint(80, 120) to simulate steps per minute."
   ]
  },
  {
   "cell_type": "code",
   "execution_count": null,
   "id": "96fcb3bd",
   "metadata": {},
   "outputs": [],
   "source": [
    "import random\n",
    "total_steps = 0\n",
    "# Loop for each minute in an hour\n",
    "\n",
    "    # Your code here to increase the total steps by a random number between 80 and 120. \n",
    "    \n",
    "    print(f\"Minute {minute}: {steps} steps\")\n",
    "\n",
    "print(f\"Total steps in 1 hour: {total_steps}\")"
   ]
  },
  {
   "cell_type": "markdown",
   "id": "1c31ade7",
   "metadata": {},
   "source": [
    "## 🔁 Material Fatigue Counter\n",
    "\n",
    "Count how many cycles a material can endure before failure. Reduce strength slightly each cycle (you decide the deduction) and stop when it drops below a threshold."
   ]
  },
  {
   "cell_type": "code",
   "execution_count": null,
   "id": "40731dc7",
   "metadata": {},
   "outputs": [],
   "source": [
    "initial_strength = 1000  # arbitrary units\n",
    "threshold = 700\n",
    "strength = initial_strength\n",
    "cycle = 0\n",
    "\n",
    "# Your code here\n",
    "\n",
    "print(f\"Material failed after {cycle} cycles.\")"
   ]
  },
  {
   "cell_type": "markdown",
   "id": "a7def41f",
   "metadata": {},
   "source": [
    "## 📱 Battery Drain Simulator\n",
    "\n",
    "Simulate a phone battery draining 5% every hour. Use a loop to show battery level over time until it reaches 0%.\n",
    "Print a warning when battery drops below 20% and a final message if the battery is drained. \n",
    "\n",
    "Hint: You may use a conditional statement nested in a while loop."
   ]
  },
  {
   "cell_type": "code",
   "execution_count": null,
   "id": "7f61b43c",
   "metadata": {},
   "outputs": [],
   "source": [
    "battery = 100\n",
    "hour = 0\n",
    "\n",
    "# Your code here\n",
    "\n",
    "        print(\"Warning: Battery low!\")\n",
    "\n",
    "print(\"Battery drained.\")"
   ]
  },
  {
   "cell_type": "markdown",
   "id": "afee43ee",
   "metadata": {},
   "source": [
    "## 🛒 Grocery Bill Calculator\n",
    "\n",
    "Loop through a list of grocery items and their prices shown in the code. Calculate the total bill. Apply a 5% discount if the total exceeds $50. Print out the total bill and an indication on whether a discount is applied. \n",
    "\n",
    "Hint: You will need a for loop through this list and then a conditional statement to determine if a discount can be applied. "
   ]
  },
  {
   "cell_type": "code",
   "execution_count": null,
   "id": "a4fc61df",
   "metadata": {},
   "outputs": [],
   "source": [
    "items = {'Milk': 4.5, 'Bread': 3.2, 'Eggs': 6.0, 'Cheese': 8.5, 'Fruits': 12.0, 'Vegetables': 10.0, 'Snacks': 9.0, 'Beverages': 7.5}\n",
    "# You can add/delete items if you want\n",
    "total = 0\n",
    "\n",
    "# Your code here"
   ]
  }
 ],
 "metadata": {
  "kernelspec": {
   "display_name": "Python 3",
   "language": "python",
   "name": "python3"
  },
  "language_info": {
   "codemirror_mode": {
    "name": "ipython",
    "version": 3
   },
   "file_extension": ".py",
   "mimetype": "text/x-python",
   "name": "python",
   "nbconvert_exporter": "python",
   "pygments_lexer": "ipython3",
   "version": "3.13.5"
  }
 },
 "nbformat": 4,
 "nbformat_minor": 5
}
